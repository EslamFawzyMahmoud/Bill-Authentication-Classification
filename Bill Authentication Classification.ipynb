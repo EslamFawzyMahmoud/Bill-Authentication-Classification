{
 "cells": [
  {
   "cell_type": "code",
   "execution_count": 1,
   "id": "b6e1c788",
   "metadata": {},
   "outputs": [],
   "source": [
    "import numpy as np\n",
    "import pandas as pd\n",
    "import matplotlib.pyplot as plt\n",
    "from sklearn.model_selection import train_test_split"
   ]
  },
  {
   "cell_type": "code",
   "execution_count": 2,
   "id": "f872fd55",
   "metadata": {},
   "outputs": [
    {
     "data": {
      "text/html": [
       "<div>\n",
       "<style scoped>\n",
       "    .dataframe tbody tr th:only-of-type {\n",
       "        vertical-align: middle;\n",
       "    }\n",
       "\n",
       "    .dataframe tbody tr th {\n",
       "        vertical-align: top;\n",
       "    }\n",
       "\n",
       "    .dataframe thead th {\n",
       "        text-align: right;\n",
       "    }\n",
       "</style>\n",
       "<table border=\"1\" class=\"dataframe\">\n",
       "  <thead>\n",
       "    <tr style=\"text-align: right;\">\n",
       "      <th></th>\n",
       "      <th>Variance</th>\n",
       "      <th>Skewness</th>\n",
       "      <th>Curtosis</th>\n",
       "      <th>Entropy</th>\n",
       "      <th>Class</th>\n",
       "    </tr>\n",
       "  </thead>\n",
       "  <tbody>\n",
       "    <tr>\n",
       "      <th>0</th>\n",
       "      <td>3.62160</td>\n",
       "      <td>8.6661</td>\n",
       "      <td>-2.8073</td>\n",
       "      <td>-0.44699</td>\n",
       "      <td>0</td>\n",
       "    </tr>\n",
       "    <tr>\n",
       "      <th>1</th>\n",
       "      <td>4.54590</td>\n",
       "      <td>8.1674</td>\n",
       "      <td>-2.4586</td>\n",
       "      <td>-1.46210</td>\n",
       "      <td>0</td>\n",
       "    </tr>\n",
       "    <tr>\n",
       "      <th>2</th>\n",
       "      <td>3.86600</td>\n",
       "      <td>-2.6383</td>\n",
       "      <td>1.9242</td>\n",
       "      <td>0.10645</td>\n",
       "      <td>0</td>\n",
       "    </tr>\n",
       "    <tr>\n",
       "      <th>3</th>\n",
       "      <td>3.45660</td>\n",
       "      <td>9.5228</td>\n",
       "      <td>-4.0112</td>\n",
       "      <td>-3.59440</td>\n",
       "      <td>0</td>\n",
       "    </tr>\n",
       "    <tr>\n",
       "      <th>4</th>\n",
       "      <td>0.32924</td>\n",
       "      <td>-4.4552</td>\n",
       "      <td>4.5718</td>\n",
       "      <td>-0.98880</td>\n",
       "      <td>0</td>\n",
       "    </tr>\n",
       "  </tbody>\n",
       "</table>\n",
       "</div>"
      ],
      "text/plain": [
       "   Variance  Skewness  Curtosis  Entropy  Class\n",
       "0   3.62160    8.6661   -2.8073 -0.44699      0\n",
       "1   4.54590    8.1674   -2.4586 -1.46210      0\n",
       "2   3.86600   -2.6383    1.9242  0.10645      0\n",
       "3   3.45660    9.5228   -4.0112 -3.59440      0\n",
       "4   0.32924   -4.4552    4.5718 -0.98880      0"
      ]
     },
     "execution_count": 2,
     "metadata": {},
     "output_type": "execute_result"
    }
   ],
   "source": [
    "data = pd.read_csv('F:/Kaggle/Bill authentication/bill_authentication.csv')\n",
    "data.head()"
   ]
  },
  {
   "cell_type": "code",
   "execution_count": 4,
   "id": "1a798d78",
   "metadata": {},
   "outputs": [
    {
     "data": {
      "text/plain": [
       "(1372, 5)"
      ]
     },
     "execution_count": 4,
     "metadata": {},
     "output_type": "execute_result"
    }
   ],
   "source": [
    "data.shape"
   ]
  },
  {
   "cell_type": "code",
   "execution_count": 5,
   "id": "68929f8a",
   "metadata": {},
   "outputs": [],
   "source": [
    "train, test = train_test_split(data, test_size=0.25)\n",
    "X = train[train['Class'].isin([0, 1])]\n",
    "Y = train[train['Class'].isin([0, 1])]['Class']\n",
    "X = X.drop(['Class'], axis = 1)"
   ]
  },
  {
   "cell_type": "code",
   "execution_count": 6,
   "id": "3b92591d",
   "metadata": {},
   "outputs": [],
   "source": [
    "def sigmoid(z):\n",
    "    s = 1.0/ (1 + np.exp(-z))\n",
    "    return s"
   ]
  },
  {
   "cell_type": "code",
   "execution_count": 7,
   "id": "65f030a0",
   "metadata": {},
   "outputs": [],
   "source": [
    "def network_architecture(X, Y):\n",
    "    n_x = X.shape[0] # nodes in input layer\n",
    "    n_h = 10 # nodes in hidden layer\n",
    "    n_y = Y.shape[0] # nodes in output layer\n",
    "    return (n_x, n_h, n_y)\n"
   ]
  },
  {
   "cell_type": "code",
   "execution_count": 8,
   "id": "912714b3",
   "metadata": {},
   "outputs": [],
   "source": [
    "def define_network_parameters(n_x, n_h, n_y):\n",
    "    W1 = np.random.randn(n_h,n_x) * 0.01 # random initialization\n",
    "    b1 = np.zeros((n_h, 1)) # zero initialization\n",
    "    W2 = np.random.randn(n_y,n_h) * 0.01\n",
    "    b2 = np.zeros((n_y, 1))\n",
    "    return {\"W1\": W1, \"b1\": b1, \"W2\": W2, \"b2\": b2}"
   ]
  },
  {
   "cell_type": "code",
   "execution_count": 9,
   "id": "997f6fe2",
   "metadata": {},
   "outputs": [],
   "source": [
    "def forward_propagation(X, params):\n",
    "    Z1 = np.dot(params['W1'], X)+params['b1']\n",
    "    A1 = sigmoid(Z1)\n",
    "    Z2 = np.dot(params['W2'], A1)+params['b2']\n",
    "    A2 = sigmoid(Z2)\n",
    "    return {\"Z1\": Z1, \"A1\": A1, \"Z2\": Z2, \"A2\": A2}"
   ]
  },
  {
   "cell_type": "code",
   "execution_count": 11,
   "id": "910e4a02",
   "metadata": {},
   "outputs": [],
   "source": [
    "def compute_error(Predicted, Actual):\n",
    "    logprobs = np.multiply(np.log(Predicted), Actual)+ np.multiply(np.log(1-Predicted), 1-Actual)\n",
    "    cost = -np.sum(logprobs) / Actual.shape[1]\n",
    "    return np.squeeze(cost)"
   ]
  },
  {
   "cell_type": "code",
   "execution_count": 12,
   "id": "247fb23e",
   "metadata": {},
   "outputs": [],
   "source": [
    "def backward_propagation(params, activations, X, Y):\n",
    "    m = X.shape[1]\n",
    "    # output layer\n",
    "    dZ2 = activations['A2'] - Y\n",
    "    dW2 = np.dot(dZ2, activations['A1'].T) / m\n",
    "    db2 = np.sum(dZ2, axis=1, keepdims=True) / m\n",
    "    # hidden layer\n",
    "    dZ1 = np.dot(params['W2'].T, dZ2) * (1 -np.power(activations['A1'], 2))\n",
    "    dW1 = np.dot(dZ1, X.T) / m\n",
    "    db1 = np.sum(dZ1, axis=1, keepdims=True) / m\n",
    "    return {\"dW1\": dW1, \"db1\": db1, \"dW2\": dW2, \"db2\": db2}"
   ]
  },
  {
   "cell_type": "code",
   "execution_count": 13,
   "id": "cfdf59a1",
   "metadata": {},
   "outputs": [],
   "source": [
    "def update_parameters(params, derivatives, alpha=1.2):\n",
    "    params['W1'] = params['W1'] - alpha * derivatives['dW1']\n",
    "    params['b1'] = params['b1'] - alpha * derivatives['db1']\n",
    "    params['W2'] = params['W2'] - alpha * derivatives['dW2']\n",
    "    params['b2'] = params['b2'] - alpha * derivatives['db2']\n",
    "    return params"
   ]
  },
  {
   "cell_type": "code",
   "execution_count": 14,
   "id": "9d951d23",
   "metadata": {},
   "outputs": [],
   "source": [
    "def neural_network(X, Y, n_h, num_iterations):\n",
    "        n_x = network_architecture(X, Y)[0]\n",
    "        n_y = network_architecture(X, Y)[2]\n",
    "        params = define_network_parameters(n_x, n_h, n_y)\n",
    "        for i in range(0, num_iterations):\n",
    "            results = forward_propagation(X, params)\n",
    "            error = compute_error(results['A2'], Y)\n",
    "            derivatives = backward_propagation(params, results, X, Y)\n",
    "            params = update_parameters(params, derivatives)\n",
    "        return params"
   ]
  },
  {
   "cell_type": "code",
   "execution_count": 15,
   "id": "d9cae9a5",
   "metadata": {},
   "outputs": [],
   "source": [
    "y = Y.values.reshape(1, Y.size)\n",
    "x = X.T"
   ]
  },
  {
   "cell_type": "code",
   "execution_count": 16,
   "id": "b96ab944",
   "metadata": {},
   "outputs": [],
   "source": [
    "def predict(parameters, X):\n",
    "    results = forward_propagation(X, parameters)\n",
    "    print (results['A2'][0])\n",
    "    predictions = np.around(results['A2'])\n",
    "    return predictions"
   ]
  },
  {
   "cell_type": "code",
   "execution_count": 17,
   "id": "42136bfd",
   "metadata": {},
   "outputs": [],
   "source": [
    "model = neural_network(x, y, n_h = 10, num_iterations = 50)"
   ]
  },
  {
   "cell_type": "code",
   "execution_count": 20,
   "id": "a49f4b74",
   "metadata": {},
   "outputs": [
    {
     "name": "stdout",
     "output_type": "stream",
     "text": [
      "[0.04904852 0.63844433 0.20738286 ... 0.04904859 0.04908534 0.99175113]\n",
      "Accuracy: 94%\n",
      "94.75218658892129\n"
     ]
    }
   ],
   "source": [
    "predictions = predict(model, x)\n",
    "print ('Accuracy: %d' % float((np.dot(y,predictions.T) + np.dot(1-y,1-predictions.T))/float(y.size)*100) + '%')\n",
    "print (float((np.dot(y,predictions.T) + np.dot(1-y,1-predictions.T))/float(y.size)*100))"
   ]
  },
  {
   "cell_type": "code",
   "execution_count": 21,
   "id": "e9e31497",
   "metadata": {},
   "outputs": [
    {
     "name": "stdout",
     "output_type": "stream",
     "text": [
      "List_K : \n",
      "[10, 30, 50, 70, 90, 110, 130, 150, 170, 190, 210, 230, 250, 270, 290, 310, 330, 350, 370, 390, 410, 430, 450, 470, 490, 510, 530, 550, 570, 590, 610, 630, 650, 670, 690, 710, 730, 750, 770, 790, 810, 830, 850, 870, 890, 910, 930, 950, 970, 990]\n",
      "[0.1719447  0.27219746 0.44579584 ... 0.17512152 0.17919232 0.65449884]\n",
      "[0.05733004 0.36924945 0.25892017 ... 0.05740274 0.05887208 0.9732793 ]\n",
      "[0.04340256 0.66499207 0.2025268  ... 0.04340213 0.04356355 0.99601759]\n",
      "[0.04442685 0.81038401 0.16786262 ... 0.04442685 0.04442775 0.99906639]\n",
      "[0.03980455 0.58461703 0.18628889 ... 0.03980243 0.03985949 0.98930489]\n",
      "[0.04764757 0.9167851  0.1058998  ... 0.04764757 0.04764757 0.99921803]\n",
      "[0.04795879 0.91056515 0.10212403 ... 0.04795879 0.04795879 0.99873941]\n"
     ]
    },
    {
     "name": "stderr",
     "output_type": "stream",
     "text": [
      "C:\\Users\\we\\AppData\\Local\\Temp/ipykernel_16960/3293153896.py:2: RuntimeWarning: overflow encountered in exp\n",
      "  s = 1.0/ (1 + np.exp(-z))\n"
     ]
    },
    {
     "name": "stdout",
     "output_type": "stream",
     "text": [
      "[0.03136779 0.96703102 0.13711071 ... 0.03126397 0.03126397 0.96299221]\n",
      "[0.04995169 0.96614129 0.07303266 ... 0.04995169 0.04995169 0.9995911 ]\n",
      "[0.05177913 0.96692672 0.06693735 ... 0.05177913 0.05177913 0.99962809]\n",
      "[0.0466102  0.98038192 0.05842135 ... 0.0466102  0.0466102  0.99976846]\n",
      "[0.02225049 0.9863821  0.07486374 ... 0.02225049 0.0222505  0.99945864]\n",
      "[0.05226958 0.9860822  0.05946325 ... 0.05226958 0.05226958 0.9997555 ]\n",
      "[0.04902497 0.97306126 0.05530376 ... 0.04902497 0.04902497 0.99958617]\n",
      "[0.05063214 0.97548837 0.05224839 ... 0.05063214 0.05063212 0.99960278]\n",
      "[0.03530001 0.97371537 0.06658326 ... 0.0353683  0.03530035 0.9998457 ]\n",
      "[0.05554558 0.98124072 0.04554489 ... 0.05553847 0.05500609 0.99972503]\n",
      "[0.05429394 0.99523123 0.05589123 ... 0.05429394 0.05429394 0.99993749]\n",
      "[0.05158184 0.99428618 0.05677287 ... 0.05158184 0.05158184 0.99990113]\n",
      "[0.05147222 0.99420907 0.05919167 ... 0.05147222 0.05147222 0.99990171]\n",
      "[0.05520027 0.99421772 0.05692717 ... 0.05520027 0.05520027 0.99985329]\n",
      "[0.0488041  0.99603513 0.05054764 ... 0.0488041  0.0488041  0.99993865]\n",
      "[0.05090842 0.99325379 0.06495366 ... 0.05090858 0.05090835 0.99987909]\n",
      "[0.05591265 0.99496008 0.05726355 ... 0.05591265 0.05591265 0.99986423]\n",
      "[0.05351698 0.99630102 0.05503594 ... 0.05351698 0.05351698 0.99993091]\n",
      "[0.05631842 0.99540654 0.05734767 ... 0.05631842 0.05631842 0.99987227]\n",
      "[0.01361541 0.74956949 0.01446211 ... 0.01361541 0.01361541 0.99996283]\n",
      "[0.0510654  0.99128457 0.05325938 ... 0.0510654  0.0510654  0.99984932]\n",
      "[0.05637278 0.99570381 0.05807967 ... 0.05637278 0.05637278 0.99987651]\n",
      "[0.01358801 0.95028848 0.99753236 ... 0.01358801 0.01358801 0.99907162]\n",
      "[0.05258483 0.99796816 0.05287906 ... 0.05258483 0.05258483 0.99996223]\n",
      "[0.05307258 0.99794531 0.05552537 ... 0.05307258 0.05307258 0.99996128]\n",
      "[0.05691921 0.99631342 0.05705848 ... 0.05691921 0.05691921 0.99988857]\n",
      "[0.05804503 0.89925549 0.05804941 ... 0.05804503 0.05804503 0.99998195]\n",
      "[0.05593304 0.99833767 0.05611641 ... 0.05593304 0.05593304 0.99996084]\n",
      "[0.05709859 0.99659754 0.05732041 ... 0.05709859 0.05709859 0.9998957 ]\n",
      "[0.05656802 0.99411036 0.05668655 ... 0.05656802 0.05656802 0.99985486]\n",
      "[0.05715827 0.99671739 0.05751394 ... 0.05715827 0.05715827 0.99989818]\n",
      "[0.05609265 0.99496213 0.05634975 ... 0.05609265 0.05609265 0.99989049]\n",
      "[0.0554102  0.99515887 0.05630619 ... 0.0554102  0.0554102  0.99989829]\n",
      "[0.01024985 0.85175828 0.01032656 ... 0.01024985 0.01024985 0.99998998]\n",
      "[0.01044823 0.84493773 0.01064224 ... 0.01044823 0.01044823 0.99998979]\n",
      "[0.05822243 0.99387999 0.05822845 ... 0.05822243 0.05822243 0.99995549]\n",
      "[0.01005484 0.86108779 0.01010033 ... 0.01005484 0.01005484 0.99999188]\n",
      "[0.05800199 0.99654937 0.05800247 ... 0.05800199 0.05800199 0.99998426]\n",
      "[0.05801516 0.98340921 0.05801846 ... 0.05801516 0.05801516 0.99995729]\n",
      "[0.0100256  0.87612881 0.01005422 ... 0.0100256  0.0100256  0.9999961 ]\n",
      "[0.00400364 0.94221722 0.30536874 ... 0.00400364 0.00400364 0.99999507]\n",
      "[0.05699705 0.99904552 0.05699826 ... 0.05699705 0.05699705 0.99997664]\n",
      "[0.0572572  0.99565536 0.05726746 ... 0.0572572  0.0572572  0.99988467]\n",
      "Accuracy :\n",
      "[82.89601554907678, 94.07191448007775, 94.75218658892129, 93.68318756073857, 94.94655004859086, 93.78036929057338, 94.46064139941691, 93.00291545189503, 93.58600583090379, 93.39164237123421, 94.07191448007775, 93.97473275024295, 93.488824101069, 94.16909620991254, 93.97473275024295, 95.52964042759962, 94.36345966958211, 93.10009718172984, 93.68318756073857, 93.78036929057338, 93.10009718172984, 93.97473275024295, 93.78036929057338, 93.10009718172984, 93.68318756073857, 93.10009718172984, 96.7930029154519, 93.87755102040816, 93.10009718172984, 87.56073858114675, 93.78036929057338, 93.58600583090379, 93.00291545189503, 93.00291545189503, 93.29446064139941, 93.00291545189503, 93.29446064139941, 93.00291545189503, 93.58600583090379, 93.58600583090379, 97.667638483965, 97.667638483965, 93.10009718172984, 97.667638483965, 93.10009718172984, 93.00291545189503, 98.05636540330418, 98.05636540330418, 93.29446064139941, 93.29446064139941]\n"
     ]
    }
   ],
   "source": [
    "list_k = list( range(10,1000,20))\n",
    "print(\"List_K : \")\n",
    "print(list_k)\n",
    "acc = []\n",
    "list_k1 = list( range(1,50))\n",
    "for nn in list_k:\n",
    "    model = neural_network(x, y, n_h = 10, num_iterations = nn)\n",
    "    predictions = predict(model, x)\n",
    "    acc.append(float((np.dot(y,predictions.T) + np.dot(1-y,1-predictions.T))/float(y.size)*100))\n",
    "print(\"Accuracy :\")\n",
    "print(acc)"
   ]
  },
  {
   "cell_type": "code",
   "execution_count": 22,
   "id": "a77fbad2",
   "metadata": {},
   "outputs": [
    {
     "data": {
      "image/png": "[encoded data removed]",
      "text/plain": [
       "<Figure size 432x288 with 1 Axes>"
      ]
     },
     "metadata": {
      "needs_background": "light"
     },
     "output_type": "display_data"
    }
   ],
   "source": [
    "plt.plot( list_k, acc )\n",
    "plt.xlabel(\"Epoch\")\n",
    "plt.ylabel(\"Accuracy\")\n",
    "plt.show()"
   ]
  },
  {
   "cell_type": "code",
   "execution_count": null,
   "id": "557a7ed0",
   "metadata": {},
   "outputs": [],
   "source": []
  }
 ],
 "metadata": {
  "kernelspec": {
   "display_name": "Python 3 (ipykernel)",
   "language": "python",
   "name": "python3"
  },
  "language_info": {
   "codemirror_mode": {
    "name": "ipython",
    "version": 3
   },
   "file_extension": ".py",
   "mimetype": "text/x-python",
   "name": "python",
   "nbconvert_exporter": "python",
   "pygments_lexer": "ipython3",
   "version": "3.9.7"
  }
 },
 "nbformat": 4,
 "nbformat_minor": 5
}
